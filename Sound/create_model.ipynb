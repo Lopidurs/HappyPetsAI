{
 "cells": [
  {
   "cell_type": "code",
   "execution_count": 17,
   "metadata": {
    "collapsed": true
   },
   "outputs": [],
   "source": [
    "import os\n",
    "import pathlib\n",
    "\n",
    "import matplotlib.pyplot as plt\n",
    "import numpy as np\n",
    "import tensorflow as tf\n",
    "\n",
    "from tensorflow.keras import layers\n",
    "from tensorflow.keras import models\n",
    "\n",
    "seed = 42\n",
    "tf.random.set_seed(seed)\n",
    "np.random.seed(seed)"
   ]
  },
  {
   "cell_type": "code",
   "execution_count": 18,
   "outputs": [],
   "source": [
    "DATASET_PATH = 'barkmeow'\n",
    "\n",
    "data_dir = pathlib.Path(DATASET_PATH)\n",
    "commands = np.array(tf.io.gfile.listdir(str(data_dir)))"
   ],
   "metadata": {
    "collapsed": false
   }
  },
  {
   "cell_type": "code",
   "execution_count": 19,
   "outputs": [],
   "source": [
    "filenames = tf.io.gfile.glob(str(data_dir) + '/*/*')\n",
    "filenames = tf.random.shuffle(filenames)\n",
    "num_samples = len(filenames)\n",
    "train_files = filenames[:round(num_samples*0.8)]\n",
    "val_files = filenames[round(num_samples*0.8):round(num_samples*0.8)+round(num_samples*0.1)]\n",
    "test_files = filenames[-round(num_samples*0.1):]"
   ],
   "metadata": {
    "collapsed": false
   }
  },
  {
   "cell_type": "code",
   "execution_count": 20,
   "outputs": [],
   "source": [
    "def decode_audio(audio_binary):\n",
    "  audio, _ = tf.audio.decode_wav(contents=audio_binary)\n",
    "  return tf.squeeze(audio, axis=-1)\n",
    "def get_label(file_path):\n",
    "  parts = tf.strings.split(\n",
    "      input=file_path,\n",
    "      sep=os.path.sep)\n",
    "  return parts[-2]\n",
    "def get_waveform_and_label(file_path):\n",
    "  label = get_label(file_path)\n",
    "  audio_binary = tf.io.read_file(file_path)\n",
    "  waveform = decode_audio(audio_binary)\n",
    "  return waveform, label\n"
   ],
   "metadata": {
    "collapsed": false
   }
  },
  {
   "cell_type": "code",
   "execution_count": 21,
   "outputs": [],
   "source": [
    "AUTOTUNE = tf.data.AUTOTUNE\n",
    "\n",
    "files_ds = tf.data.Dataset.from_tensor_slices(train_files)\n",
    "\n",
    "waveform_ds = files_ds.map(\n",
    "    map_func=get_waveform_and_label,\n",
    "    num_parallel_calls=AUTOTUNE)"
   ],
   "metadata": {
    "collapsed": false
   }
  },
  {
   "cell_type": "code",
   "execution_count": 22,
   "outputs": [],
   "source": [
    "def get_spectrogram(waveform):\n",
    "  input_len = 16000\n",
    "  waveform = waveform[:input_len]\n",
    "  zero_padding = tf.zeros(\n",
    "      [16000] - tf.shape(waveform),\n",
    "      dtype=tf.float32)\n",
    "  waveform = tf.cast(waveform, dtype=tf.float32)\n",
    "  equal_length = tf.concat([waveform, zero_padding], 0)\n",
    "  spectrogram = tf.signal.stft(\n",
    "      equal_length, frame_length=255, frame_step=128)\n",
    "  spectrogram = tf.abs(spectrogram)\n",
    "  spectrogram = spectrogram[..., tf.newaxis]\n",
    "  return spectrogram"
   ],
   "metadata": {
    "collapsed": false
   }
  },
  {
   "cell_type": "code",
   "execution_count": 23,
   "outputs": [],
   "source": [
    "def plot_spectrogram(spectrogram, ax):\n",
    "  if len(spectrogram.shape) > 2:\n",
    "    assert len(spectrogram.shape) == 3\n",
    "    spectrogram = np.squeeze(spectrogram, axis=-1)\n",
    "  log_spec = np.log(spectrogram.T + np.finfo(float).eps)\n",
    "  height = log_spec.shape[0]\n",
    "  width = log_spec.shape[1]\n",
    "  X = np.linspace(0, np.size(spectrogram), num=width, dtype=int)\n",
    "  Y = range(height)\n",
    "  ax.pcolormesh(X, Y, log_spec)"
   ],
   "metadata": {
    "collapsed": false
   }
  },
  {
   "cell_type": "code",
   "execution_count": 24,
   "outputs": [],
   "source": [
    "def get_spectrogram_and_label_id(audio, label):\n",
    "  spectrogram = get_spectrogram(audio)\n",
    "  label_id = tf.argmax(label == commands)\n",
    "  return spectrogram, label_id"
   ],
   "metadata": {
    "collapsed": false
   }
  },
  {
   "cell_type": "code",
   "execution_count": 25,
   "outputs": [],
   "source": [
    "spectrogram_ds = waveform_ds.map(\n",
    "  map_func=get_spectrogram_and_label_id,\n",
    "  num_parallel_calls=AUTOTUNE)"
   ],
   "metadata": {
    "collapsed": false
   }
  },
  {
   "cell_type": "code",
   "execution_count": 26,
   "outputs": [],
   "source": [
    "def preprocess_dataset(files):\n",
    "  files_ds = tf.data.Dataset.from_tensor_slices(files)\n",
    "  output_ds = files_ds.map(\n",
    "      map_func=get_waveform_and_label,\n",
    "      num_parallel_calls=AUTOTUNE)\n",
    "  output_ds = output_ds.map(\n",
    "      map_func=get_spectrogram_and_label_id,\n",
    "      num_parallel_calls=AUTOTUNE)\n",
    "  return output_ds"
   ],
   "metadata": {
    "collapsed": false
   }
  },
  {
   "cell_type": "code",
   "execution_count": 27,
   "outputs": [],
   "source": [
    "train_ds = spectrogram_ds\n",
    "val_ds = preprocess_dataset(val_files)\n",
    "test_ds = preprocess_dataset(test_files)\n"
   ],
   "metadata": {
    "collapsed": false
   }
  },
  {
   "cell_type": "code",
   "execution_count": 28,
   "outputs": [],
   "source": [
    "batch_size = 64\n",
    "train_ds = train_ds.batch(batch_size)\n",
    "val_ds = val_ds.batch(batch_size)\n"
   ],
   "metadata": {
    "collapsed": false
   }
  },
  {
   "cell_type": "code",
   "execution_count": 29,
   "outputs": [],
   "source": [
    "train_ds = train_ds.cache().prefetch(AUTOTUNE)\n",
    "val_ds = val_ds.cache().prefetch(AUTOTUNE)\n"
   ],
   "metadata": {
    "collapsed": false
   }
  },
  {
   "cell_type": "code",
   "execution_count": 30,
   "outputs": [],
   "source": [
    "for spectrogram, _ in spectrogram_ds.take(1):\n",
    "  input_shape = spectrogram.shape\n",
    "num_labels = len(commands)\n",
    "\n",
    "norm_layer = layers.Normalization()\n",
    "norm_layer.adapt(data=spectrogram_ds.map(map_func=lambda spec, label: spec))\n",
    "\n",
    "model = models.Sequential([\n",
    "    layers.Input(shape=input_shape),\n",
    "    layers.Resizing(32, 32),\n",
    "    norm_layer,\n",
    "    layers.Conv2D(32, 3, activation='relu'),\n",
    "    layers.Conv2D(64, 3, activation='relu'),\n",
    "    layers.MaxPooling2D(),\n",
    "    layers.Dropout(0.25),\n",
    "    layers.Flatten(),\n",
    "    layers.Dense(128, activation='relu'),\n",
    "    layers.Dropout(0.5),\n",
    "    layers.Dense(num_labels),\n",
    "])\n"
   ],
   "metadata": {
    "collapsed": false
   }
  },
  {
   "cell_type": "code",
   "execution_count": 31,
   "outputs": [],
   "source": [
    "model.compile(\n",
    "    optimizer=tf.keras.optimizers.Adam(),\n",
    "    loss=tf.keras.losses.SparseCategoricalCrossentropy(from_logits=True),\n",
    "    metrics=['accuracy'],\n",
    ")"
   ],
   "metadata": {
    "collapsed": false
   }
  },
  {
   "cell_type": "code",
   "execution_count": 32,
   "outputs": [
    {
     "name": "stdout",
     "output_type": "stream",
     "text": [
      "Epoch 1/40\n",
      "2/2 [==============================] - 2s 620ms/step - loss: 1.2072 - accuracy: 0.3223 - val_loss: 0.9219 - val_accuracy: 0.5333\n",
      "Epoch 2/40\n",
      "2/2 [==============================] - 0s 146ms/step - loss: 0.7658 - accuracy: 0.7521 - val_loss: 1.1508 - val_accuracy: 0.4667\n",
      "Epoch 3/40\n",
      "2/2 [==============================] - 0s 72ms/step - loss: 0.6318 - accuracy: 0.7686 - val_loss: 1.2619 - val_accuracy: 0.4667\n",
      "Epoch 4/40\n",
      "2/2 [==============================] - 0s 70ms/step - loss: 0.5515 - accuracy: 0.7851 - val_loss: 1.2734 - val_accuracy: 0.5333\n",
      "Epoch 5/40\n",
      "2/2 [==============================] - 0s 69ms/step - loss: 0.4801 - accuracy: 0.8347 - val_loss: 1.3953 - val_accuracy: 0.5333\n",
      "Epoch 6/40\n",
      "2/2 [==============================] - 0s 69ms/step - loss: 0.4342 - accuracy: 0.8430 - val_loss: 1.6671 - val_accuracy: 0.5333\n",
      "Epoch 7/40\n",
      "2/2 [==============================] - 0s 52ms/step - loss: 0.3804 - accuracy: 0.8678 - val_loss: 2.0091 - val_accuracy: 0.5333\n",
      "Epoch 8/40\n",
      "2/2 [==============================] - 0s 50ms/step - loss: 0.3393 - accuracy: 0.8678 - val_loss: 2.2485 - val_accuracy: 0.5333\n",
      "Epoch 9/40\n",
      "2/2 [==============================] - 0s 52ms/step - loss: 0.3182 - accuracy: 0.8926 - val_loss: 2.3513 - val_accuracy: 0.5333\n",
      "Epoch 10/40\n",
      "2/2 [==============================] - 0s 47ms/step - loss: 0.3102 - accuracy: 0.8843 - val_loss: 2.3172 - val_accuracy: 0.5333\n",
      "Epoch 11/40\n",
      "2/2 [==============================] - 0s 49ms/step - loss: 0.3352 - accuracy: 0.8843 - val_loss: 2.2969 - val_accuracy: 0.6000\n",
      "Epoch 12/40\n",
      "2/2 [==============================] - 0s 51ms/step - loss: 0.2710 - accuracy: 0.9091 - val_loss: 2.3216 - val_accuracy: 0.6667\n",
      "Epoch 13/40\n",
      "2/2 [==============================] - 0s 47ms/step - loss: 0.3069 - accuracy: 0.8926 - val_loss: 2.4444 - val_accuracy: 0.5333\n",
      "Epoch 14/40\n",
      "2/2 [==============================] - 0s 50ms/step - loss: 0.2588 - accuracy: 0.8843 - val_loss: 2.8183 - val_accuracy: 0.5333\n",
      "Epoch 15/40\n",
      "2/2 [==============================] - 0s 50ms/step - loss: 0.2346 - accuracy: 0.9174 - val_loss: 3.1809 - val_accuracy: 0.6000\n",
      "Epoch 16/40\n",
      "2/2 [==============================] - 0s 47ms/step - loss: 0.2285 - accuracy: 0.9174 - val_loss: 3.4624 - val_accuracy: 0.6000\n",
      "Epoch 17/40\n",
      "2/2 [==============================] - 0s 50ms/step - loss: 0.2208 - accuracy: 0.9091 - val_loss: 3.6518 - val_accuracy: 0.6000\n",
      "Epoch 18/40\n",
      "2/2 [==============================] - 0s 47ms/step - loss: 0.2699 - accuracy: 0.9256 - val_loss: 3.2826 - val_accuracy: 0.5333\n",
      "Epoch 19/40\n",
      "2/2 [==============================] - 0s 48ms/step - loss: 0.2055 - accuracy: 0.9008 - val_loss: 3.0500 - val_accuracy: 0.4667\n",
      "Epoch 20/40\n",
      "2/2 [==============================] - 0s 47ms/step - loss: 0.1984 - accuracy: 0.9256 - val_loss: 2.9632 - val_accuracy: 0.4667\n",
      "Epoch 21/40\n",
      "2/2 [==============================] - 0s 53ms/step - loss: 0.1998 - accuracy: 0.9091 - val_loss: 2.9704 - val_accuracy: 0.4667\n",
      "Epoch 22/40\n",
      "2/2 [==============================] - 0s 50ms/step - loss: 0.1749 - accuracy: 0.9339 - val_loss: 3.0672 - val_accuracy: 0.4667\n",
      "Epoch 23/40\n",
      "2/2 [==============================] - 0s 50ms/step - loss: 0.1644 - accuracy: 0.9256 - val_loss: 3.3504 - val_accuracy: 0.4667\n",
      "Epoch 24/40\n",
      "2/2 [==============================] - 0s 50ms/step - loss: 0.1944 - accuracy: 0.9421 - val_loss: 3.4905 - val_accuracy: 0.5333\n",
      "Epoch 25/40\n",
      "2/2 [==============================] - 0s 47ms/step - loss: 0.1663 - accuracy: 0.9339 - val_loss: 3.6977 - val_accuracy: 0.4667\n",
      "Epoch 26/40\n",
      "2/2 [==============================] - 0s 48ms/step - loss: 0.1535 - accuracy: 0.9421 - val_loss: 3.4457 - val_accuracy: 0.6000\n",
      "Epoch 27/40\n",
      "2/2 [==============================] - 0s 47ms/step - loss: 0.1576 - accuracy: 0.9421 - val_loss: 3.4795 - val_accuracy: 0.6000\n",
      "Epoch 28/40\n",
      "2/2 [==============================] - 0s 47ms/step - loss: 0.1307 - accuracy: 0.9504 - val_loss: 3.7108 - val_accuracy: 0.6000\n",
      "Epoch 29/40\n",
      "2/2 [==============================] - 0s 51ms/step - loss: 0.1339 - accuracy: 0.9421 - val_loss: 4.2848 - val_accuracy: 0.6000\n",
      "Epoch 30/40\n",
      "2/2 [==============================] - 0s 48ms/step - loss: 0.1368 - accuracy: 0.9421 - val_loss: 5.0144 - val_accuracy: 0.6000\n",
      "Epoch 31/40\n",
      "2/2 [==============================] - 0s 52ms/step - loss: 0.1224 - accuracy: 0.9669 - val_loss: 5.6661 - val_accuracy: 0.6000\n",
      "Epoch 32/40\n",
      "2/2 [==============================] - 0s 51ms/step - loss: 0.1400 - accuracy: 0.9421 - val_loss: 5.4071 - val_accuracy: 0.6000\n",
      "Epoch 33/40\n",
      "2/2 [==============================] - 0s 53ms/step - loss: 0.1049 - accuracy: 0.9587 - val_loss: 4.8031 - val_accuracy: 0.6000\n",
      "Epoch 34/40\n",
      "2/2 [==============================] - 0s 55ms/step - loss: 0.1284 - accuracy: 0.9421 - val_loss: 4.2692 - val_accuracy: 0.6000\n",
      "Epoch 35/40\n",
      "2/2 [==============================] - 0s 51ms/step - loss: 0.1133 - accuracy: 0.9587 - val_loss: 3.7115 - val_accuracy: 0.6667\n",
      "Epoch 36/40\n",
      "2/2 [==============================] - 0s 51ms/step - loss: 0.1225 - accuracy: 0.9587 - val_loss: 3.4957 - val_accuracy: 0.6667\n",
      "Epoch 37/40\n",
      "2/2 [==============================] - 0s 52ms/step - loss: 0.1407 - accuracy: 0.9587 - val_loss: 3.7407 - val_accuracy: 0.6000\n",
      "Epoch 38/40\n",
      "2/2 [==============================] - 0s 52ms/step - loss: 0.1022 - accuracy: 0.9669 - val_loss: 4.0502 - val_accuracy: 0.5333\n",
      "Epoch 39/40\n",
      "2/2 [==============================] - 0s 48ms/step - loss: 0.1153 - accuracy: 0.9504 - val_loss: 4.2015 - val_accuracy: 0.5333\n",
      "Epoch 40/40\n",
      "2/2 [==============================] - 0s 49ms/step - loss: 0.1137 - accuracy: 0.9421 - val_loss: 4.4746 - val_accuracy: 0.5333\n"
     ]
    }
   ],
   "source": [
    "EPOCHS = 40\n",
    "history = model.fit(\n",
    "    train_ds,\n",
    "    validation_data=val_ds,\n",
    "    epochs=EPOCHS,\n",
    "    callbacks=None,\n",
    ")"
   ],
   "metadata": {
    "collapsed": false
   }
  },
  {
   "cell_type": "code",
   "execution_count": 36,
   "outputs": [],
   "source": [
    "test_audio = []\n",
    "test_labels = []\n",
    "\n",
    "for audio, label in test_ds:\n",
    "  test_audio.append(audio.numpy())\n",
    "  test_labels.append(label.numpy())\n",
    "\n",
    "test_audio = np.array(test_audio)\n",
    "test_labels = np.array(test_labels)"
   ],
   "metadata": {
    "collapsed": false
   }
  },
  {
   "cell_type": "code",
   "execution_count": 37,
   "outputs": [
    {
     "name": "stdout",
     "output_type": "stream",
     "text": [
      "Test set accuracy: 93%\n"
     ]
    }
   ],
   "source": [
    "y_pred = np.argmax(model.predict(test_audio), axis=1)\n",
    "y_true = test_labels\n",
    "\n",
    "test_acc = sum(y_pred == y_true) / len(y_true)\n",
    "print(f'Test set accuracy: {test_acc:.0%}')"
   ],
   "metadata": {
    "collapsed": false
   }
  },
  {
   "cell_type": "code",
   "execution_count": 38,
   "outputs": [
    {
     "name": "stdout",
     "output_type": "stream",
     "text": [
      "INFO:tensorflow:Assets written to: ./model\\assets\n"
     ]
    }
   ],
   "source": [
    "model.save(\"./model\")"
   ],
   "metadata": {
    "collapsed": false
   }
  },
  {
   "cell_type": "code",
   "execution_count": 41,
   "outputs": [
    {
     "data": {
      "text/plain": "<Figure size 640x480 with 1 Axes>",
      "image/png": "[encoded data removed]"
     },
     "metadata": {},
     "output_type": "display_data"
    }
   ],
   "source": [
    "sample_file = data_dir/'../test/oiseau1.wav'\n",
    "\n",
    "sample_ds = preprocess_dataset([str(sample_file)])\n",
    "\n",
    "for spectrogram, label in sample_ds.batch(1):\n",
    "  prediction = model(spectrogram)\n",
    "  plt.bar(commands, tf.nn.softmax(prediction[0]))\n",
    "  plt.title(f'Predictions for \"{commands[label[0]]}\"')\n",
    "  plt.show()\n"
   ],
   "metadata": {
    "collapsed": false
   }
  }
 ],
 "metadata": {
  "kernelspec": {
   "display_name": "Python 3",
   "language": "python",
   "name": "python3"
  },
  "language_info": {
   "codemirror_mode": {
    "name": "ipython",
    "version": 2
   },
   "file_extension": ".py",
   "mimetype": "text/x-python",
   "name": "python",
   "nbconvert_exporter": "python",
   "pygments_lexer": "ipython2",
   "version": "2.7.6"
  }
 },
 "nbformat": 4,
 "nbformat_minor": 0
}
